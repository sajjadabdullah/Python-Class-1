{
 "cells": [
  {
   "cell_type": "markdown",
   "metadata": {},
   "source": [
    "# My First Program"
   ]
  },
  {
   "cell_type": "markdown",
   "metadata": {},
   "source": [
    "## Author: Sajjad Abdullah\n",
    "## Date: 30 October 2023"
   ]
  },
  {
   "cell_type": "code",
   "execution_count": 2,
   "metadata": {},
   "outputs": [
    {
     "name": "stdout",
     "output_type": "stream",
     "text": [
      "This is my first Program in Python\n"
     ]
    }
   ],
   "source": [
    "print(\"This is my first Program in Python\")"
   ]
  },
  {
   "cell_type": "code",
   "execution_count": 7,
   "metadata": {},
   "outputs": [
    {
     "name": "stdout",
     "output_type": "stream",
     "text": [
      "<class 'int'> <class 'str'> <class 'float'> <class 'bool'>\n"
     ]
    }
   ],
   "source": [
    "# Using Variables\n",
    "a=10\n",
    "b=\"Sajjad\"\n",
    "c=2.5\n",
    "d=True\n",
    "print(type(a), type(b), type(c), type(d))\n"
   ]
  },
  {
   "cell_type": "code",
   "execution_count": 15,
   "metadata": {},
   "outputs": [
    {
     "name": "stdout",
     "output_type": "stream",
     "text": [
      "26 14 120 3.3333333333333335 3 2\n"
     ]
    }
   ],
   "source": [
    "# Using Arithetic Operators\n",
    "a,b=20,6\n",
    "a,b=b,a\n",
    "# add variables 'a' and 'b' into 'c'\n",
    "c=a+b\n",
    "d=a-b\n",
    "e=a*b\n",
    "f=a/b # float division\n",
    "g=a//b # integer division\n",
    "h=a%b # remainder operator\n",
    "print(c,d,e,f,g,h)"
   ]
  }
 ],
 "metadata": {
  "kernelspec": {
   "display_name": "base",
   "language": "python",
   "name": "python3"
  },
  "language_info": {
   "codemirror_mode": {
    "name": "ipython",
    "version": 3
   },
   "file_extension": ".py",
   "mimetype": "text/x-python",
   "name": "python",
   "nbconvert_exporter": "python",
   "pygments_lexer": "ipython3",
   "version": "3.9.12"
  }
 },
 "nbformat": 4,
 "nbformat_minor": 2
}
